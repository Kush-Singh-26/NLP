{
  "nbformat": 4,
  "nbformat_minor": 0,
  "metadata": {
    "colab": {
      "provenance": [],
      "include_colab_link": true
    },
    "kernelspec": {
      "name": "python3",
      "display_name": "Python 3"
    },
    "language_info": {
      "name": "python"
    }
  },
  "cells": [
    {
      "cell_type": "markdown",
      "metadata": {
        "id": "view-in-github",
        "colab_type": "text"
      },
      "source": [
        "<a href=\"https://colab.research.google.com/github/Kush-Singh-26/NLP/blob/main/ChargenerateRNN.ipynb\" target=\"_parent\"><img src=\"https://colab.research.google.com/assets/colab-badge.svg\" alt=\"Open In Colab\"/></a>"
      ]
    },
    {
      "cell_type": "markdown",
      "source": [
        "# Character Level RNN trained on Shakespeare's Text data"
      ],
      "metadata": {
        "id": "3tcRQnjWbmpy"
      }
    },
    {
      "cell_type": "code",
      "execution_count": null,
      "metadata": {
        "id": "VJqrQBoRqqR8"
      },
      "outputs": [],
      "source": [
        "import torch\n",
        "import torch.nn as nn\n",
        "import torch.nn.functional as F\n",
        "import random"
      ]
    },
    {
      "cell_type": "code",
      "source": [
        "# Download the Tiny Shakespeare dataset\n",
        "!wget https://raw.githubusercontent.com/karpathy/char-rnn/master/data/tinyshakespeare/input.txt -O input.txt\n",
        "\n",
        "with open('input.txt', 'r') as f:\n",
        "    text = f.read()\n",
        "\n",
        "# Create character vocabulary\n",
        "chars = sorted(list(set(text)))\n",
        "vocab_size = len(chars)\n"
      ],
      "metadata": {
        "colab": {
          "base_uri": "https://localhost:8080/"
        },
        "id": "QpNsWlwNqvJK",
        "outputId": "0c2b6b1c-ef34-41ef-87b0-bbc351156d30"
      },
      "execution_count": null,
      "outputs": [
        {
          "output_type": "stream",
          "name": "stdout",
          "text": [
            "--2025-05-07 06:23:17--  https://raw.githubusercontent.com/karpathy/char-rnn/master/data/tinyshakespeare/input.txt\n",
            "Resolving raw.githubusercontent.com (raw.githubusercontent.com)... 185.199.110.133, 185.199.109.133, 185.199.108.133, ...\n",
            "Connecting to raw.githubusercontent.com (raw.githubusercontent.com)|185.199.110.133|:443... connected.\n",
            "HTTP request sent, awaiting response... 200 OK\n",
            "Length: 1115394 (1.1M) [text/plain]\n",
            "Saving to: ‘input.txt’\n",
            "\n",
            "\rinput.txt             0%[                    ]       0  --.-KB/s               \rinput.txt           100%[===================>]   1.06M  --.-KB/s    in 0.02s   \n",
            "\n",
            "2025-05-07 06:23:17 (58.8 MB/s) - ‘input.txt’ saved [1115394/1115394]\n",
            "\n"
          ]
        }
      ]
    },
    {
      "cell_type": "code",
      "source": [
        "# Map characters to indices and vice versa\n",
        "char2idx = {ch: idx for idx, ch in enumerate(chars)}\n",
        "idx2char = {idx: ch for ch, idx in char2idx.items()}\n",
        "\n",
        "# Encode the entire dataset into indices\n",
        "encoded_text = torch.tensor([char2idx[c] for c in text], dtype=torch.long)"
      ],
      "metadata": {
        "id": "3hHWoNisqw97"
      },
      "execution_count": null,
      "outputs": []
    },
    {
      "cell_type": "code",
      "source": [
        "# Define training hyperparameters\n",
        "block_size = 100\n",
        "batch_size = 64\n",
        "hidden_size = 256\n",
        "num_layers = 2\n",
        "learning_rate = 0.002\n",
        "num_epochs = 500"
      ],
      "metadata": {
        "id": "ahIqoqg_q0Mx"
      },
      "execution_count": null,
      "outputs": []
    },
    {
      "cell_type": "code",
      "source": [
        "# Function to generate a training batch\n",
        "def get_batch(encoded_text, block_size, batch_size):\n",
        "    ix = torch.randint(0, len(encoded_text) - block_size - 1, (batch_size,))\n",
        "    x = torch.stack([encoded_text[i:i+block_size] for i in ix])\n",
        "    y = torch.stack([encoded_text[i+1:i+block_size+1] for i in ix])\n",
        "    return x, y"
      ],
      "metadata": {
        "id": "bKzcgrkYq2F3"
      },
      "execution_count": null,
      "outputs": []
    },
    {
      "cell_type": "code",
      "source": [
        "# Character-level RNN model\n",
        "class CharRNN(nn.Module):\n",
        "    def __init__(self, vocab_size, hidden_size, num_layers):\n",
        "        super().__init__()\n",
        "        self.embed = nn.Embedding(vocab_size, hidden_size)\n",
        "        self.rnn = nn.RNN(hidden_size, hidden_size, num_layers, batch_first=True)\n",
        "        self.fc = nn.Linear(hidden_size, vocab_size)\n",
        "\n",
        "    def forward(self, x, hidden=None):\n",
        "        x = self.embed(x)\n",
        "        out, hidden = self.rnn(x, hidden)\n",
        "        out = self.fc(out)\n",
        "        return out, hidden\n"
      ],
      "metadata": {
        "id": "QDW23LCmq3XU"
      },
      "execution_count": null,
      "outputs": []
    },
    {
      "cell_type": "code",
      "source": [
        "model = CharRNN(vocab_size, hidden_size, num_layers)\n",
        "optimizer = torch.optim.Adam(model.parameters(), lr=learning_rate)\n",
        "loss_fn = nn.CrossEntropyLoss()\n",
        "\n",
        "# Training Loop\n",
        "print(\"Training started...\")\n",
        "for epoch in range(num_epochs):\n",
        "    x_batch, y_batch = get_batch(encoded_text, block_size, batch_size)\n",
        "    model.train()\n",
        "    optimizer.zero_grad()\n",
        "    logits, _ = model(x_batch)\n",
        "    loss = loss_fn(logits.view(-1, vocab_size), y_batch.view(-1))\n",
        "    loss.backward()\n",
        "    optimizer.step()\n",
        "    if (epoch + 1) % 2 == 0:\n",
        "        print(f\"Epoch {epoch+1}/{num_epochs}, Loss: {loss.item():.4f}\")\n"
      ],
      "metadata": {
        "colab": {
          "base_uri": "https://localhost:8080/"
        },
        "id": "Q4HE6zVNq5K5",
        "outputId": "b95e9a58-0fe4-4b0b-9bd0-20a50fcf91f8"
      },
      "execution_count": null,
      "outputs": [
        {
          "output_type": "stream",
          "name": "stdout",
          "text": [
            "Training started...\n",
            "Epoch 2/500, Loss: 3.7927\n",
            "Epoch 4/500, Loss: 3.1972\n",
            "Epoch 6/500, Loss: 2.9484\n",
            "Epoch 8/500, Loss: 2.8168\n",
            "Epoch 10/500, Loss: 2.6898\n",
            "Epoch 12/500, Loss: 2.6244\n",
            "Epoch 14/500, Loss: 2.5181\n",
            "Epoch 16/500, Loss: 2.4964\n",
            "Epoch 18/500, Loss: 2.4021\n",
            "Epoch 20/500, Loss: 2.4052\n",
            "Epoch 22/500, Loss: 2.3409\n",
            "Epoch 24/500, Loss: 2.3031\n",
            "Epoch 26/500, Loss: 2.2450\n",
            "Epoch 28/500, Loss: 2.2645\n",
            "Epoch 30/500, Loss: 2.2534\n",
            "Epoch 32/500, Loss: 2.2131\n",
            "Epoch 34/500, Loss: 2.1791\n",
            "Epoch 36/500, Loss: 2.1933\n",
            "Epoch 38/500, Loss: 2.1602\n",
            "Epoch 40/500, Loss: 2.1563\n",
            "Epoch 42/500, Loss: 2.0868\n",
            "Epoch 44/500, Loss: 2.1349\n",
            "Epoch 46/500, Loss: 2.1302\n",
            "Epoch 48/500, Loss: 2.0805\n",
            "Epoch 50/500, Loss: 2.0509\n",
            "Epoch 52/500, Loss: 2.0432\n",
            "Epoch 54/500, Loss: 2.0468\n",
            "Epoch 56/500, Loss: 2.0701\n",
            "Epoch 58/500, Loss: 2.0394\n",
            "Epoch 60/500, Loss: 2.0341\n",
            "Epoch 62/500, Loss: 2.0138\n",
            "Epoch 64/500, Loss: 2.0227\n",
            "Epoch 66/500, Loss: 1.9727\n",
            "Epoch 68/500, Loss: 1.9826\n",
            "Epoch 70/500, Loss: 1.9753\n",
            "Epoch 72/500, Loss: 1.9547\n",
            "Epoch 74/500, Loss: 1.9318\n",
            "Epoch 76/500, Loss: 1.9552\n",
            "Epoch 78/500, Loss: 1.8935\n",
            "Epoch 80/500, Loss: 1.9327\n",
            "Epoch 82/500, Loss: 1.9677\n",
            "Epoch 84/500, Loss: 1.9288\n",
            "Epoch 86/500, Loss: 1.9404\n",
            "Epoch 88/500, Loss: 1.8944\n",
            "Epoch 90/500, Loss: 1.8985\n",
            "Epoch 92/500, Loss: 1.9004\n",
            "Epoch 94/500, Loss: 1.8998\n",
            "Epoch 96/500, Loss: 1.9107\n",
            "Epoch 98/500, Loss: 1.8565\n",
            "Epoch 100/500, Loss: 1.8938\n",
            "Epoch 102/500, Loss: 1.8659\n",
            "Epoch 104/500, Loss: 1.8708\n",
            "Epoch 106/500, Loss: 1.8696\n",
            "Epoch 108/500, Loss: 1.8667\n",
            "Epoch 110/500, Loss: 1.8415\n",
            "Epoch 112/500, Loss: 1.8524\n",
            "Epoch 114/500, Loss: 1.7996\n",
            "Epoch 116/500, Loss: 1.7982\n",
            "Epoch 118/500, Loss: 1.8241\n",
            "Epoch 120/500, Loss: 1.8068\n",
            "Epoch 122/500, Loss: 1.8267\n",
            "Epoch 124/500, Loss: 1.8222\n",
            "Epoch 126/500, Loss: 1.8253\n",
            "Epoch 128/500, Loss: 1.8110\n",
            "Epoch 130/500, Loss: 1.7790\n",
            "Epoch 132/500, Loss: 1.8310\n",
            "Epoch 134/500, Loss: 1.8080\n",
            "Epoch 136/500, Loss: 1.7647\n",
            "Epoch 138/500, Loss: 1.7347\n",
            "Epoch 140/500, Loss: 1.7759\n",
            "Epoch 142/500, Loss: 1.7720\n",
            "Epoch 144/500, Loss: 1.7622\n",
            "Epoch 146/500, Loss: 1.7454\n",
            "Epoch 148/500, Loss: 1.7110\n",
            "Epoch 150/500, Loss: 1.7272\n",
            "Epoch 152/500, Loss: 1.6986\n",
            "Epoch 154/500, Loss: 1.7191\n",
            "Epoch 156/500, Loss: 1.7459\n",
            "Epoch 158/500, Loss: 1.7211\n",
            "Epoch 160/500, Loss: 1.7087\n",
            "Epoch 162/500, Loss: 1.7165\n",
            "Epoch 164/500, Loss: 1.7411\n",
            "Epoch 166/500, Loss: 1.7215\n",
            "Epoch 168/500, Loss: 1.7292\n",
            "Epoch 170/500, Loss: 1.7443\n",
            "Epoch 172/500, Loss: 1.7035\n",
            "Epoch 174/500, Loss: 1.7312\n",
            "Epoch 176/500, Loss: 1.7143\n",
            "Epoch 178/500, Loss: 1.6938\n",
            "Epoch 180/500, Loss: 1.6802\n",
            "Epoch 182/500, Loss: 1.7615\n",
            "Epoch 184/500, Loss: 1.7027\n",
            "Epoch 186/500, Loss: 1.6554\n",
            "Epoch 188/500, Loss: 1.7006\n",
            "Epoch 190/500, Loss: 1.6461\n",
            "Epoch 192/500, Loss: 1.7254\n",
            "Epoch 194/500, Loss: 1.6974\n",
            "Epoch 196/500, Loss: 1.6795\n",
            "Epoch 198/500, Loss: 1.6823\n",
            "Epoch 200/500, Loss: 1.6377\n",
            "Epoch 202/500, Loss: 1.6535\n",
            "Epoch 204/500, Loss: 1.6499\n",
            "Epoch 206/500, Loss: 1.6833\n",
            "Epoch 208/500, Loss: 1.6524\n",
            "Epoch 210/500, Loss: 1.6393\n",
            "Epoch 212/500, Loss: 1.6650\n",
            "Epoch 214/500, Loss: 1.6872\n",
            "Epoch 216/500, Loss: 1.6192\n",
            "Epoch 218/500, Loss: 1.6726\n",
            "Epoch 220/500, Loss: 1.6840\n",
            "Epoch 222/500, Loss: 1.6581\n",
            "Epoch 224/500, Loss: 1.6158\n",
            "Epoch 226/500, Loss: 1.6319\n",
            "Epoch 228/500, Loss: 1.6938\n",
            "Epoch 230/500, Loss: 1.6588\n",
            "Epoch 232/500, Loss: 1.6398\n",
            "Epoch 234/500, Loss: 1.6408\n",
            "Epoch 236/500, Loss: 1.6210\n",
            "Epoch 238/500, Loss: 1.6360\n",
            "Epoch 240/500, Loss: 1.6332\n",
            "Epoch 242/500, Loss: 1.6203\n",
            "Epoch 244/500, Loss: 1.6271\n",
            "Epoch 246/500, Loss: 1.5892\n",
            "Epoch 248/500, Loss: 1.6491\n",
            "Epoch 250/500, Loss: 1.6566\n",
            "Epoch 252/500, Loss: 1.6222\n",
            "Epoch 254/500, Loss: 1.6038\n",
            "Epoch 256/500, Loss: 1.6453\n",
            "Epoch 258/500, Loss: 1.6362\n",
            "Epoch 260/500, Loss: 1.6111\n",
            "Epoch 262/500, Loss: 1.5829\n",
            "Epoch 264/500, Loss: 1.6576\n",
            "Epoch 266/500, Loss: 1.6177\n",
            "Epoch 268/500, Loss: 1.6170\n",
            "Epoch 270/500, Loss: 1.6252\n",
            "Epoch 272/500, Loss: 1.6074\n",
            "Epoch 274/500, Loss: 1.6093\n",
            "Epoch 276/500, Loss: 1.6118\n",
            "Epoch 278/500, Loss: 1.6215\n",
            "Epoch 280/500, Loss: 1.6282\n",
            "Epoch 282/500, Loss: 1.6254\n",
            "Epoch 284/500, Loss: 1.6004\n",
            "Epoch 286/500, Loss: 1.6372\n",
            "Epoch 288/500, Loss: 1.6341\n",
            "Epoch 290/500, Loss: 1.5425\n",
            "Epoch 292/500, Loss: 1.6325\n",
            "Epoch 294/500, Loss: 1.5658\n",
            "Epoch 296/500, Loss: 1.5841\n",
            "Epoch 298/500, Loss: 1.6263\n",
            "Epoch 300/500, Loss: 1.5689\n",
            "Epoch 302/500, Loss: 1.5746\n",
            "Epoch 304/500, Loss: 1.5920\n",
            "Epoch 306/500, Loss: 1.5717\n",
            "Epoch 308/500, Loss: 1.5104\n",
            "Epoch 310/500, Loss: 1.5807\n",
            "Epoch 312/500, Loss: 1.5496\n",
            "Epoch 314/500, Loss: 1.6229\n",
            "Epoch 316/500, Loss: 1.5166\n",
            "Epoch 318/500, Loss: 1.5756\n",
            "Epoch 320/500, Loss: 1.6106\n",
            "Epoch 322/500, Loss: 1.5968\n",
            "Epoch 324/500, Loss: 1.5739\n",
            "Epoch 326/500, Loss: 1.5738\n",
            "Epoch 328/500, Loss: 1.5686\n",
            "Epoch 330/500, Loss: 1.5506\n",
            "Epoch 332/500, Loss: 1.5690\n",
            "Epoch 334/500, Loss: 1.5786\n",
            "Epoch 336/500, Loss: 1.5477\n",
            "Epoch 338/500, Loss: 1.5801\n",
            "Epoch 340/500, Loss: 1.5509\n",
            "Epoch 342/500, Loss: 1.5861\n",
            "Epoch 344/500, Loss: 1.5975\n",
            "Epoch 346/500, Loss: 1.5234\n",
            "Epoch 348/500, Loss: 1.5917\n",
            "Epoch 350/500, Loss: 1.5684\n",
            "Epoch 352/500, Loss: 1.5288\n",
            "Epoch 354/500, Loss: 1.5690\n",
            "Epoch 356/500, Loss: 1.5528\n",
            "Epoch 358/500, Loss: 1.5699\n",
            "Epoch 360/500, Loss: 1.5433\n",
            "Epoch 362/500, Loss: 1.5371\n",
            "Epoch 364/500, Loss: 1.5734\n",
            "Epoch 366/500, Loss: 1.5806\n",
            "Epoch 368/500, Loss: 1.5328\n",
            "Epoch 370/500, Loss: 1.5304\n",
            "Epoch 372/500, Loss: 1.5591\n",
            "Epoch 374/500, Loss: 1.5716\n",
            "Epoch 376/500, Loss: 1.5385\n",
            "Epoch 378/500, Loss: 1.4918\n",
            "Epoch 380/500, Loss: 1.5303\n",
            "Epoch 382/500, Loss: 1.5379\n",
            "Epoch 384/500, Loss: 1.5227\n",
            "Epoch 386/500, Loss: 1.5582\n",
            "Epoch 388/500, Loss: 1.5419\n",
            "Epoch 390/500, Loss: 1.4820\n",
            "Epoch 392/500, Loss: 1.5471\n",
            "Epoch 394/500, Loss: 1.5844\n",
            "Epoch 396/500, Loss: 1.4865\n",
            "Epoch 398/500, Loss: 1.5692\n",
            "Epoch 400/500, Loss: 1.4678\n",
            "Epoch 402/500, Loss: 1.5220\n",
            "Epoch 404/500, Loss: 1.5643\n",
            "Epoch 406/500, Loss: 1.5021\n",
            "Epoch 408/500, Loss: 1.5253\n",
            "Epoch 410/500, Loss: 1.5100\n",
            "Epoch 412/500, Loss: 1.5308\n",
            "Epoch 414/500, Loss: 1.5633\n",
            "Epoch 416/500, Loss: 1.5283\n",
            "Epoch 418/500, Loss: 1.5305\n",
            "Epoch 420/500, Loss: 1.4943\n",
            "Epoch 422/500, Loss: 1.5165\n",
            "Epoch 424/500, Loss: 1.4679\n",
            "Epoch 426/500, Loss: 1.5219\n",
            "Epoch 428/500, Loss: 1.5401\n",
            "Epoch 430/500, Loss: 1.5883\n",
            "Epoch 432/500, Loss: 1.5506\n",
            "Epoch 434/500, Loss: 1.5108\n",
            "Epoch 436/500, Loss: 1.4972\n",
            "Epoch 438/500, Loss: 1.5684\n",
            "Epoch 440/500, Loss: 1.4691\n",
            "Epoch 442/500, Loss: 1.4807\n",
            "Epoch 444/500, Loss: 1.5132\n",
            "Epoch 446/500, Loss: 1.4969\n",
            "Epoch 448/500, Loss: 1.5149\n",
            "Epoch 450/500, Loss: 1.4967\n",
            "Epoch 452/500, Loss: 1.5343\n",
            "Epoch 454/500, Loss: 1.5637\n",
            "Epoch 456/500, Loss: 1.5135\n",
            "Epoch 458/500, Loss: 1.5307\n",
            "Epoch 460/500, Loss: 1.4967\n",
            "Epoch 462/500, Loss: 1.4879\n",
            "Epoch 464/500, Loss: 1.5111\n",
            "Epoch 466/500, Loss: 1.5152\n",
            "Epoch 468/500, Loss: 1.4926\n",
            "Epoch 470/500, Loss: 1.5315\n",
            "Epoch 472/500, Loss: 1.4728\n",
            "Epoch 474/500, Loss: 1.4979\n",
            "Epoch 476/500, Loss: 1.5000\n",
            "Epoch 478/500, Loss: 1.5155\n",
            "Epoch 480/500, Loss: 1.5247\n",
            "Epoch 482/500, Loss: 1.5367\n",
            "Epoch 484/500, Loss: 1.5027\n",
            "Epoch 486/500, Loss: 1.5205\n",
            "Epoch 488/500, Loss: 1.4864\n",
            "Epoch 490/500, Loss: 1.5152\n",
            "Epoch 492/500, Loss: 1.5132\n",
            "Epoch 494/500, Loss: 1.5347\n",
            "Epoch 496/500, Loss: 1.5096\n",
            "Epoch 498/500, Loss: 1.4636\n",
            "Epoch 500/500, Loss: 1.4984\n"
          ]
        }
      ]
    },
    {
      "cell_type": "code",
      "source": [
        "def generate(model, start_text='Once upon a ', length=400):\n",
        "    model.eval()\n",
        "    chars = list(start_text)\n",
        "    input_seq = torch.tensor([char2idx[c] for c in chars], dtype=torch.long).unsqueeze(0)\n",
        "    hidden = None\n",
        "\n",
        "    for _ in range(length):\n",
        "        output, hidden = model(input_seq, hidden)\n",
        "        last_logits = output[0, -1, :]\n",
        "        probs = torch.softmax(last_logits, dim=0)\n",
        "        next_idx = torch.multinomial(probs, num_samples=1).item()\n",
        "        chars.append(idx2char[next_idx])\n",
        "        input_seq = torch.tensor([[next_idx]], dtype=torch.long)\n",
        "\n",
        "    return ''.join(chars)"
      ],
      "metadata": {
        "id": "bls9ZLP2q7bS"
      },
      "execution_count": null,
      "outputs": []
    },
    {
      "cell_type": "code",
      "source": [
        "print(\"\\nGenerated text:\")\n",
        "print(generate(model, start_text=\"Once upon a time,\"))"
      ],
      "metadata": {
        "colab": {
          "base_uri": "https://localhost:8080/"
        },
        "id": "74U5b1BZq98o",
        "outputId": "72b9c702-3be9-4e1a-98fd-8234cd8c9aec"
      },
      "execution_count": null,
      "outputs": [
        {
          "output_type": "stream",
          "name": "stdout",
          "text": [
            "\n",
            "Generated text:\n",
            "Once upon a time, toes! Look\n",
            "Fir my cold.\n",
            "\n",
            "ANGELO:\n",
            "Canless a honour scanch,\n",
            "Now to: and dost, be have consword;\n",
            "And to you am thee thine: 'tis harple: and no lift keemsions our Lair!\n",
            "But or no lord against to her order stility.\n",
            "\n",
            "Cloud you, be\n",
            "Ench indost pre was,\n",
            "Frugh their torthere good and the firtsh in defence: 'Coursel.\n",
            "\n",
            "DUKE OF OFCY:\n",
            "My everein any all own.\n",
            "\n",
            "SICINIUS:\n",
            "Furreason, and a heart\n",
            "It\n",
            "dopt anger for\n"
          ]
        }
      ]
    },
    {
      "cell_type": "code",
      "source": [
        "torch.save({\n",
        "    'model_state_dict': model.state_dict(),\n",
        "    'char2idx': char2idx,\n",
        "    'idx2char': idx2char,\n",
        "    'vocab_size': vocab_size,\n",
        "    'hidden_size': hidden_size,\n",
        "    'num_layers': num_layers\n",
        "}, 'char_rnn_full.pt')\n"
      ],
      "metadata": {
        "id": "LUBaKtiYrGDZ"
      },
      "execution_count": null,
      "outputs": []
    },
    {
      "cell_type": "markdown",
      "source": [
        "## To perform inference"
      ],
      "metadata": {
        "id": "z-ZmAqYcb4hP"
      }
    },
    {
      "cell_type": "code",
      "source": [
        "import torch\n",
        "import torch.nn.functional as F\n",
        "import random\n",
        "\n",
        "# Load the trained checkpoint\n",
        "checkpoint = torch.load('char_rnn_full.pt')\n",
        "\n",
        "# Recreate the model architecture using saved hyperparameters\n",
        "model = CharRNN(\n",
        "    vocab_size=checkpoint['vocab_size'],\n",
        "    hidden_size=checkpoint['hidden_size'],\n",
        "    num_layers=checkpoint['num_layers']\n",
        ")\n",
        "model.load_state_dict(checkpoint['model_state_dict'])\n",
        "model.eval()\n",
        "\n",
        "# Restore the character mappings\n",
        "char2idx = checkpoint['char2idx']\n",
        "idx2char = checkpoint['idx2char']\n",
        "\n",
        "# Function to generate text using the trained model\n",
        "def generate_text(model, start_text, char2idx, idx2char, length=200, temperature=1.0):\n",
        "    model.eval()\n",
        "    input_seq = torch.tensor([char2idx[c] for c in start_text], dtype=torch.long).unsqueeze(0)\n",
        "    hidden = None\n",
        "\n",
        "    generated = list(start_text)\n",
        "\n",
        "    for _ in range(length):\n",
        "        output, hidden = model(input_seq, hidden)\n",
        "        output = output[:, -1, :]  # take the output from the last timestep\n",
        "        output = output / temperature  # apply temperature for diversity\n",
        "        probs = F.softmax(output, dim=-1).squeeze()\n",
        "        char_idx = torch.multinomial(probs, num_samples=1).item()\n",
        "        generated.append(idx2char[char_idx])\n",
        "        input_seq = torch.tensor([[char_idx]])\n",
        "\n",
        "    return ''.join(generated)\n",
        "\n",
        "# Example usage\n",
        "start_prompt = \"To be\"\n",
        "generated_text = generate_text(model, start_prompt, char2idx, idx2char, length=300, temperature=0.8)\n",
        "print(generated_text)\n"
      ],
      "metadata": {
        "id": "gpelMcjRr6pP",
        "outputId": "513b239e-a2e5-4f5c-c6e8-a299cbef4b2f",
        "colab": {
          "base_uri": "https://localhost:8080/"
        }
      },
      "execution_count": null,
      "outputs": [
        {
          "output_type": "stream",
          "name": "stdout",
          "text": [
            "To be the brother, to the poor and the handly dost have let the king,\n",
            "And nothing thy peward and might in the great and did thee, how have, for these your blood myself than thou tell.\n",
            "\n",
            "KING RICHARD III:\n",
            "Why are you said at him thou good say.\n",
            "\n",
            "CATUS:\n",
            "A though some like deathn and upon so is not our straig\n"
          ]
        }
      ]
    },
    {
      "cell_type": "code",
      "source": [],
      "metadata": {
        "id": "hFXwxe88cTkD"
      },
      "execution_count": null,
      "outputs": []
    }
  ]
}